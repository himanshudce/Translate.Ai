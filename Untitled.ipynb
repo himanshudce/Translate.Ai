{
 "cells": [
  {
   "cell_type": "code",
   "execution_count": 5,
   "metadata": {},
   "outputs": [
    {
     "data": {
      "text/html": [
       "<div>\n",
       "<style scoped>\n",
       "    .dataframe tbody tr th:only-of-type {\n",
       "        vertical-align: middle;\n",
       "    }\n",
       "\n",
       "    .dataframe tbody tr th {\n",
       "        vertical-align: top;\n",
       "    }\n",
       "\n",
       "    .dataframe thead th {\n",
       "        text-align: right;\n",
       "    }\n",
       "</style>\n",
       "<table border=\"1\" class=\"dataframe\">\n",
       "  <thead>\n",
       "    <tr style=\"text-align: right;\">\n",
       "      <th></th>\n",
       "      <th>test_id</th>\n",
       "      <th>question1</th>\n",
       "      <th>question2</th>\n",
       "    </tr>\n",
       "  </thead>\n",
       "  <tbody>\n",
       "    <tr>\n",
       "      <th>0</th>\n",
       "      <td>0</td>\n",
       "      <td>और जैसा आप देख रहे है, ये एल.ई.डी. जल उठेगी।</td>\n",
       "      <td>और आप देख सकते हैं, यह एलईडी चमकने वाली है।</td>\n",
       "    </tr>\n",
       "    <tr>\n",
       "      <th>1</th>\n",
       "      <td>1</td>\n",
       "      <td>मैं आज आपको सफल निर्णय लेने का रहस्य बताने वाल...</td>\n",
       "      <td>मैं यहाँ आपको सफल निर्णय लेने का रहस्य बताने व...</td>\n",
       "    </tr>\n",
       "    <tr>\n",
       "      <th>2</th>\n",
       "      <td>2</td>\n",
       "      <td>संसार की अधिकाश ऊँची पर्वत चोटियाँ हिमालय में ...</td>\n",
       "      <td>दुनिया की सबसे ऊंची पर्वत चोटियाँ हिमालय पर स्...</td>\n",
       "    </tr>\n",
       "    <tr>\n",
       "      <th>3</th>\n",
       "      <td>3</td>\n",
       "      <td>पंखा चल दो</td>\n",
       "      <td>पंखे को चला दीजिये</td>\n",
       "    </tr>\n",
       "  </tbody>\n",
       "</table>\n",
       "</div>"
      ],
      "text/plain": [
       "   test_id                                          question1  \\\n",
       "0        0       और जैसा आप देख रहे है, ये एल.ई.डी. जल उठेगी।   \n",
       "1        1  मैं आज आपको सफल निर्णय लेने का रहस्य बताने वाल...   \n",
       "2        2  संसार की अधिकाश ऊँची पर्वत चोटियाँ हिमालय में ...   \n",
       "3        3                                        पंखा चल दो    \n",
       "\n",
       "                                           question2  \n",
       "0        और आप देख सकते हैं, यह एलईडी चमकने वाली है।  \n",
       "1  मैं यहाँ आपको सफल निर्णय लेने का रहस्य बताने व...  \n",
       "2  दुनिया की सबसे ऊंची पर्वत चोटियाँ हिमालय पर स्...  \n",
       "3                                 पंखे को चला दीजिये  "
      ]
     },
     "execution_count": 5,
     "metadata": {},
     "output_type": "execute_result"
    }
   ],
   "source": [
    "import pandas as pd\n",
    "pd.read_csv('data/test.csv')"
   ]
  },
  {
   "cell_type": "code",
   "execution_count": null,
   "metadata": {},
   "outputs": [],
   "source": []
  }
 ],
 "metadata": {
  "kernelspec": {
   "display_name": "Python 3",
   "language": "python",
   "name": "python3"
  },
  "language_info": {
   "codemirror_mode": {
    "name": "ipython",
    "version": 3
   },
   "file_extension": ".py",
   "mimetype": "text/x-python",
   "name": "python",
   "nbconvert_exporter": "python",
   "pygments_lexer": "ipython3",
   "version": "3.7.7"
  }
 },
 "nbformat": 4,
 "nbformat_minor": 4
}
